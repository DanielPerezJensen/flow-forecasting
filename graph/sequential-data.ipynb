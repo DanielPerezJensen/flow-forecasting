{
 "cells": [
  {
   "cell_type": "code",
   "execution_count": null,
   "id": "35cfaaf4",
   "metadata": {},
   "outputs": [],
   "source": [
    "from __future__ import annotations\n",
    "\n",
    "import numpy as np\n",
    "import pandas as pd\n",
    "import os\n",
    "from os.path import join\n",
    "from datetime import timedelta\n",
    "from collections import OrderedDict\n",
    "\n",
    "import data_utils\n",
    "\n",
    "import torch\n",
    "from torch_geometric.data import HeteroData, Dataset\n",
    "from torch_geometric.loader import DataLoader\n",
    "\n",
    "from sklearn.preprocessing import MinMaxScaler, StandardScaler\n",
    "from sklearn.preprocessing import MaxAbsScaler, RobustScaler\n",
    "from sklearn.preprocessing import FunctionTransformer\n",
    "\n",
    "from typing import Type, Optional, Tuple, List, Union, Dict, Any, Callable\n",
    "\n",
    "DataDateDictType = Dict[np.datetime64, HeteroData]\n",
    "ScalerType = Union[MinMaxScaler, StandardScaler,\n",
    "                   MaxAbsScaler, RobustScaler, FunctionTransformer]"
   ]
  },
  {
   "cell_type": "code",
   "execution_count": null,
   "id": "ac276e64",
   "metadata": {},
   "outputs": [],
   "source": [
    "from torch_geometric.data import Data\n",
    "\n",
    "class SeqData(Data):\n",
    "    def __init__(self, edge_indices=None, xs=None, y=None):\n",
    "        super().__init__()\n",
    "        \n",
    "        self.edge_indices = edge_indices\n",
    "        self.xs = xs\n",
    "        self.y = y\n",
    "    \n",
    "    def __inc__(self, key, value, *args, **kwargs):\n",
    "        if key == \"edge_indices\":\n",
    "            return self.xs[0].size(0)\n",
    "        else:\n",
    "            return super().__inc__(key, value, *args, **kwargs)"
   ]
  },
  {
   "cell_type": "code",
   "execution_count": null,
   "id": "4cbbdad8",
   "metadata": {},
   "outputs": [],
   "source": [
    "n_graphs = 2\n",
    "n_nodes = 4\n",
    "\n",
    "edge_index = torch.tensor([\n",
    "    [1, 2, 3],\n",
    "    [0, 0, 0]\n",
    "])\n",
    "\n",
    "edge_indices = edge_index.repeat(2, 1, 1)\n",
    "\n",
    "xs = torch.stack([torch.randint(1, 5, (n_nodes, 8)) for _ in range(n_graphs)])\n",
    "y = torch.randint(6, 10, (n_nodes, n_graphs))\n",
    "\n",
    "data = SeqData(edge_indices, xs, y)\n",
    "\n",
    "data_list = [data, data]\n",
    "\n",
    "loader = DataLoader(data_list, batch_size=2, follow_batch=[\"xs\", \"y\"])\n",
    "batch = next(iter(loader))\n",
    "\n",
    "print(data)\n",
    "print(batch)"
   ]
  },
  {
   "cell_type": "code",
   "execution_count": null,
   "id": "f10b5b27",
   "metadata": {},
   "outputs": [],
   "source": [
    "data_list = [data, data]\n",
    "\n",
    "loader = DataLoader(data_list, batch_size=2, follow_batch=[\"xs\", \"y\"])\n",
    "batch = next(iter(loader))\n",
    "\n",
    "print(batch)\n",
    "print(batch.edge_indices)\n",
    "print(batch.xs)\n",
    "print(batch.xs_batch)\n",
    "print(batch.y)\n",
    "print(batch.y_batch)"
   ]
  },
  {
   "cell_type": "code",
   "execution_count": null,
   "id": "05a3f96a",
   "metadata": {},
   "outputs": [],
   "source": [
    "from torch_geometric.data import Data, HeteroData\n",
    "\n",
    "class SeqData(HeteroData):\n",
    "    def __init__(self):\n",
    "        super().__init__()\n",
    "    \n",
    "    def __inc__(self, key, value, store, *args, **kwargs):\n",
    "        print(key, value)\n",
    "        return 0"
   ]
  },
  {
   "cell_type": "code",
   "execution_count": null,
   "id": "47d4ee4e",
   "metadata": {},
   "outputs": [],
   "source": [
    "n_graphs = 2\n",
    "n_nodes = 4\n",
    "\n",
    "measurement_xs = torch.stack([torch.randint(1, 5, (n_nodes, 8)) for _ in range(n_graphs)])\n",
    "measurement_y = torch.randint(6, 10, (n_nodes, n_graphs))\n",
    "\n",
    "measurement_edge_index = torch.tensor([\n",
    "    [1, 2, 3],\n",
    "    [0, 0, 0]\n",
    "])\n",
    "\n",
    "measurement_edge_indices = edge_index.repeat(2, 1, 1)\n",
    "\n",
    "data = SeqData()\n",
    "\n",
    "data[\"measurement\"].x = measurement_xs\n",
    "data[\"measurement\"].y = measurement_y\n",
    "data[\"measurement\", \"flows\", \"measurement\"].edge_index = measurement_edge_indices\n",
    "\n",
    "data_list = [data, data]\n",
    "\n",
    "loader = DataLoader(data_list, batch_size=2)\n",
    "batch = next(iter(loader))\n",
    "\n",
    "print(batch)"
   ]
  },
  {
   "cell_type": "code",
   "execution_count": null,
   "id": "7d4a105c",
   "metadata": {},
   "outputs": [],
   "source": [
    "data_list = [data, data]\n",
    "\n",
    "loader = DataLoader(data_list, batch_size=2)\n",
    "batch = next(iter(loader))\n",
    "\n",
    "print(batch)\n",
    "# print(batch.edge_indices)\n",
    "# print(batch.xs)\n",
    "# print(batch.xs_batch)\n",
    "# print(batch.y)\n",
    "# print(batch.y_batch)"
   ]
  }
 ],
 "metadata": {
  "kernelspec": {
   "display_name": "Python 3 (ipykernel)",
   "language": "python",
   "name": "python3"
  },
  "language_info": {
   "codemirror_mode": {
    "name": "ipython",
    "version": 3
   },
   "file_extension": ".py",
   "mimetype": "text/x-python",
   "name": "python",
   "nbconvert_exporter": "python",
   "pygments_lexer": "ipython3",
   "version": "3.8.12"
  },
  "toc": {
   "base_numbering": 1,
   "nav_menu": {},
   "number_sections": true,
   "sideBar": true,
   "skip_h1_title": false,
   "title_cell": "Table of Contents",
   "title_sidebar": "Contents",
   "toc_cell": false,
   "toc_position": {},
   "toc_section_display": true,
   "toc_window_display": false
  }
 },
 "nbformat": 4,
 "nbformat_minor": 5
}
