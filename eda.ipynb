{
 "cells": [
  {
   "cell_type": "code",
   "execution_count": null,
   "id": "f2929ea4",
   "metadata": {},
   "outputs": [],
   "source": [
    "import pandas as pd\n",
    "import numpy as np\n",
    "import os\n",
    "import datetime"
   ]
  },
  {
   "cell_type": "code",
   "execution_count": null,
   "id": "ae797592",
   "metadata": {},
   "outputs": [],
   "source": [
    "processed_folder_path = os.path.join(\"data\", \"processed\")\n",
    "unprocessed_folder_path = os.path.join(\"data\", \"unprocessed\")"
   ]
  },
  {
   "cell_type": "code",
   "execution_count": null,
   "id": "30f234b7",
   "metadata": {},
   "outputs": [],
   "source": [
    "def pandas_eda(df):\n",
    "    print(\"First 5 columns\")\n",
    "    print(df.head())\n",
    "    print(\"*\" * 100)\n",
    "    print(\"Dataframe information\")\n",
    "    print(df.info())\n",
    "    print(\"*\" * 100)\n",
    "    print(\"Missing values\")\n",
    "    print(df.isnull().sum())\n",
    "    print(\"*\" * 100)"
   ]
  },
  {
   "cell_type": "code",
   "execution_count": null,
   "id": "21af1476",
   "metadata": {},
   "outputs": [],
   "source": [
    "# Convert data files from NDSI/NDVI to formatted CSVs\n",
    "data_folder = \"Data_NDSI_NDVI\"\n",
    "data_files = [\"NDSI.txt\", \"NDVI.txt\"]\n",
    "\n",
    "\n",
    "for data_file in data_files:\n",
    "    df = pd.read_csv(os.path.join(unprocessed_folder_path, data_folder, data_file), \n",
    "                     delimiter=\"\\t\", index_col=False,\n",
    "                     names=[\"Watershed\", \"Subsubwatershed\", \"Product\", \"Date\",\n",
    "                            \"Areaini\", \"Areareproj\", \"SurfNDSImax\", \"SurfNDSImin\",\n",
    "                            \"SurfNDSIavg\", \"NDSImax\", \"NDSImin\", \"NDSIavg\",\n",
    "                            \"Surfcloudmax\", \"Surfcloudmin\", \"Surfcloudavg\",\n",
    "                            \"Surfbadpixmax\", \"Surfbadpixmin\", \"Surfbadpixavg\"])\n",
    "    df[\"Date\"] = pd.to_datetime(df[\"Date\"])\n",
    "    pandas_eda(df)\n",
    "    df.to_csv(os.path.join(processed_folder_path, data_file[:4] + \".csv\"))\n",
    "\n"
   ]
  },
  {
   "cell_type": "code",
   "execution_count": null,
   "id": "f78552b2",
   "metadata": {},
   "outputs": [],
   "source": [
    "flow_data_folder = \"Data_RiverFlow\"\n",
    "flow_data_file = \"DGA.txt\"\n",
    "\n",
    "date_columns = [\"day\", \"month\", \"year\", \"hour\"]\n",
    "\n",
    "df = pd.read_csv(os.path.join(unprocessed_folder_path, flow_data_folder, flow_data_file), \n",
    "                 delimiter=\"\\t\", index_col=False,\n",
    "                 names=[\"station_number\", \"day\", \"month\", \"year\", \"hour\", \n",
    "                        \"river_height\", \"river_flow\", \"information\", \"origin\"])\n",
    "\n",
    "# print(df.describe())\n",
    "date = pd.to_datetime(dict(year=df.year, month=df.month, day=df.day, hour=df.hour))\n",
    "\n",
    "df = df.drop(columns=date_columns)\n",
    "df.insert(1, 'date', date)\n",
    "\n",
    "df.to_csv(os.path.join(processed_folder_path, flow_data_file[:3] + \".csv\"))"
   ]
  },
  {
   "cell_type": "code",
   "execution_count": null,
   "id": "5e82da67",
   "metadata": {},
   "outputs": [],
   "source": []
  }
 ],
 "metadata": {
  "kernelspec": {
   "display_name": "Python 3 (ipykernel)",
   "language": "python",
   "name": "python3"
  },
  "language_info": {
   "codemirror_mode": {
    "name": "ipython",
    "version": 3
   },
   "file_extension": ".py",
   "mimetype": "text/x-python",
   "name": "python",
   "nbconvert_exporter": "python",
   "pygments_lexer": "ipython3",
   "version": "3.8.10"
  },
  "toc": {
   "base_numbering": 1,
   "nav_menu": {},
   "number_sections": true,
   "sideBar": true,
   "skip_h1_title": false,
   "title_cell": "Table of Contents",
   "title_sidebar": "Contents",
   "toc_cell": false,
   "toc_position": {},
   "toc_section_display": true,
   "toc_window_display": false
  }
 },
 "nbformat": 4,
 "nbformat_minor": 5
}
