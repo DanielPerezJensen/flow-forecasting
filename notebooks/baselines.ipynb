{
 "cells": [
  {
   "cell_type": "markdown",
   "id": "b8e5d387",
   "metadata": {},
   "source": [
    "## In this notebook we implement some simple baselines\n",
    "\n",
    "Including ..."
   ]
  },
  {
   "cell_type": "code",
   "execution_count": null,
   "id": "a308911f",
   "metadata": {},
   "outputs": [],
   "source": [
    "# Standard imports\n",
    "\n",
    "%matplotlib inline \n",
    "\n",
    "import pandas as pd\n",
    "import numpy as np\n",
    "import matplotlib.pyplot as plt\n",
    "from matplotlib import dates as mdates\n",
    "import collections\n",
    "import os\n",
    "from tqdm.notebook import tqdm"
   ]
  },
  {
   "cell_type": "markdown",
   "id": "9afc905d",
   "metadata": {},
   "source": [
    "### First we import the data from NDSI, NDVI and DGA and only consider years after 1965, as there is insufficient data before 1965."
   ]
  },
  {
   "cell_type": "code",
   "execution_count": null,
   "id": "0195e22d",
   "metadata": {},
   "outputs": [],
   "source": [
    "processed_folder_path = os.path.join(\"..\", \"data\", \"processed\")"
   ]
  },
  {
   "cell_type": "code",
   "execution_count": null,
   "id": "898c7205",
   "metadata": {},
   "outputs": [],
   "source": [
    "df_NDSI = pd.read_csv(os.path.join(processed_folder_path, \"NDSI.csv\"), index_col=0, parse_dates=[\"date\"])\n",
    "df_DGA = pd.read_csv(os.path.join(processed_folder_path, \"DGA.csv\"), index_col=0, parse_dates=[\"date\"])\n",
    "df_NDVI = pd.read_csv(os.path.join(processed_folder_path, \"NDSI.csv\"), index_col=0, parse_dates=[\"date\"])\n",
    "\n",
    "df_NDSI = df_NDSI.loc[df_NDSI[\"date\"].dt.year >= 1965]\n",
    "df_NDVI = df_NDVI.loc[df_NDVI[\"date\"].dt.year >= 1965]\n",
    "# df_DGA = df_DGA.loc[df_DGA[\"date\"].dt.year >= 1965]\n"
   ]
  },
  {
   "cell_type": "markdown",
   "id": "643eac77",
   "metadata": {},
   "source": [
    "#### We will use Pytorch to implement some simple neural networks\n",
    "\n",
    "https://pytorch.org/\n",
    "\n",
    "First we refine the data and put it into a DataLoader object."
   ]
  },
  {
   "cell_type": "code",
   "execution_count": null,
   "id": "77d93ab9",
   "metadata": {},
   "outputs": [],
   "source": [
    "import torch\n",
    "from torch import nn\n",
    "from torch.utils.data import Dataset, DataLoader\n",
    "\n",
    "device = torch.device(\"cuda:0\") if torch.cuda.is_available() else torch.device(\"cpu\")"
   ]
  },
  {
   "cell_type": "code",
   "execution_count": null,
   "id": "ed071a79",
   "metadata": {},
   "outputs": [],
   "source": [
    "monthly_flow_data_mean = df_DGA.groupby(pd.PeriodIndex(df_DGA['date'], freq=\"M\"))['river_flow'].mean()\n",
    "monthly_flow_data_median = df_DGA.groupby(pd.PeriodIndex(df_DGA['date'], freq=\"M\"))['river_flow'].median()\n",
    "\n",
    "mean_df = monthly_flow_data_mean.reset_index()\n",
    "mean_df.date = pd.to_datetime(mean_df.date.astype(\"str\"))\n",
    "\n",
    "# Offset date by 3 months, so 1 april aligns with the first day of a given water year\n",
    "mean_df.date = mean_df.date + pd.tseries.offsets.DateOffset(months=-3)\n",
    "# mean_df = mean_df.loc[mean_df.date.dt.year >= 1964]\n",
    "\n",
    "X = []\n",
    "y = []\n",
    "\n",
    "# 1987 seems to have insufficient data, so ignore years that do not contain 12 values\n",
    "for year in mean_df.date.dt.year.unique():\n",
    "    year_rows = mean_df.loc[mean_df.date.dt.year == year][\"river_flow\"]\n",
    "    \n",
    "    if len(year_rows) == 12:\n",
    "        X.append(year_rows[:6])\n",
    "        y.append(year_rows[6:].mean())\n",
    "    \n",
    "X = np.array(X)\n",
    "y = np.array(y)"
   ]
  },
  {
   "cell_type": "code",
   "execution_count": null,
   "id": "96539c66",
   "metadata": {},
   "outputs": [],
   "source": [
    "class RiverFlowDataset(Dataset):\n",
    "    def __init__(self, X, y):\n",
    "        self.X = np.float32(X)\n",
    "        self.y = np.float32(y)\n",
    "    \n",
    "    def __len__(self):\n",
    "        return len(self.y)\n",
    "\n",
    "    def __getitem__(self, idx):\n",
    "        return self.X[idx], self.y[idx]"
   ]
  },
  {
   "cell_type": "code",
   "execution_count": null,
   "id": "1fd4a5e0",
   "metadata": {},
   "outputs": [],
   "source": [
    "class MLP(nn.Module):\n",
    "    def __init__(self):\n",
    "        super().__init__()\n",
    "        \n",
    "        self.layers = nn.Sequential(\n",
    "            nn.Linear(6, 64),\n",
    "            nn.ReLU(),\n",
    "            nn.Linear(64, 32),\n",
    "            nn.ReLU(),\n",
    "            nn.Linear(32, 1)\n",
    "        )\n",
    "        \n",
    "    def forward(self, x):\n",
    "        return self.layers(x)"
   ]
  },
  {
   "cell_type": "code",
   "execution_count": null,
   "id": "348a6a52",
   "metadata": {},
   "outputs": [],
   "source": [
    "dataset = RiverFlowDataset(X, y)\n",
    "train_set, val_set = torch.utils.data.random_split(dataset, [round(len(dataset) * 0.8), round(len(dataset) * 0.2)])                                              \n",
    "\n",
    "dataloader = DataLoader(train_set, batch_size=2, shuffle=True, num_workers=2)\n",
    "\n",
    "torch.manual_seed(42)\n",
    "\n",
    "model = MLP().to(device)\n",
    "\n",
    "loss_fn = nn.MSELoss()\n",
    "optim = torch.optim.Adam(model.parameters(), lr=1e-4)\n",
    "\n",
    "for epoch in tqdm(range(0, 200), desc=\"Epoch\"):\n",
    "    \n",
    "    current_loss = 0.0\n",
    "    n = 0\n",
    "    \n",
    "    for i, data in enumerate(dataloader):\n",
    "        model.train()\n",
    "        inputs, targets = data\n",
    "        inputs = inputs.to(device)\n",
    "        targets = targets.to(device)\n",
    "        \n",
    "        optim.zero_grad()\n",
    "        outputs = model(inputs)\n",
    "        \n",
    "        loss = loss_fn(outputs, targets.unsqueeze(1))\n",
    "        \n",
    "        loss.backward()\n",
    "        \n",
    "        optim.step()\n",
    "        \n",
    "        current_loss += loss.item()\n",
    "        n += 1"
   ]
  },
  {
   "cell_type": "code",
   "execution_count": null,
   "id": "86828881",
   "metadata": {},
   "outputs": [],
   "source": [
    "def test(model, validation_set):\n",
    "    testloader = DataLoader(validation_set, batch_size=2, num_workers=2)\n",
    "    metric = nn.MSELoss()\n",
    "    \n",
    "    model.eval()\n",
    "    \n",
    "    total_loss = 0.0\n",
    "    \n",
    "    for data in tqdm(testloader):\n",
    "        inputs, targets = data\n",
    "        inputs = inputs.to(device)\n",
    "        targets = targets.to(device)\n",
    "        \n",
    "        outputs = model(inputs)\n",
    "    \n",
    "        total_loss += metric(outputs, targets.unsqueeze(1))\n",
    "    \n",
    "    print(\"Test Loss: %3f: \", total_loss.item() / len(validation_set))\n",
    "    \n",
    "test(model, val_set)"
   ]
  },
  {
   "cell_type": "code",
   "execution_count": null,
   "id": "8636458b",
   "metadata": {},
   "outputs": [],
   "source": []
  }
 ],
 "metadata": {
  "kernelspec": {
   "display_name": "Python 3 (ipykernel)",
   "language": "python",
   "name": "python3"
  },
  "language_info": {
   "codemirror_mode": {
    "name": "ipython",
    "version": 3
   },
   "file_extension": ".py",
   "mimetype": "text/x-python",
   "name": "python",
   "nbconvert_exporter": "python",
   "pygments_lexer": "ipython3",
   "version": "3.8.12"
  }
 },
 "nbformat": 4,
 "nbformat_minor": 5
}
