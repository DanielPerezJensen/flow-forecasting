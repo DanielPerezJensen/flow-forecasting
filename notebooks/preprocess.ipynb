{
 "cells": [
  {
   "cell_type": "markdown",
   "id": "f92b7035",
   "metadata": {},
   "source": [
    "## In this notebook we convert the data to a processed format to be able to better work with the data."
   ]
  },
  {
   "cell_type": "code",
   "execution_count": null,
   "id": "f2929ea4",
   "metadata": {},
   "outputs": [],
   "source": [
    "%matplotlib inline \n",
    "\n",
    "import pandas as pd\n",
    "import numpy as np\n",
    "import matplotlib.pyplot as plt\n",
    "from matplotlib import dates as mdates\n",
    "import collections\n",
    "import os"
   ]
  },
  {
   "cell_type": "code",
   "execution_count": null,
   "id": "ae797592",
   "metadata": {},
   "outputs": [],
   "source": [
    "processed_folder_path = os.path.join(\"..\", \"data\", \"processed\")\n",
    "unprocessed_folder_path = os.path.join(\"..\", \"data\", \"unprocessed\")"
   ]
  },
  {
   "cell_type": "code",
   "execution_count": null,
   "id": "30f234b7",
   "metadata": {},
   "outputs": [],
   "source": [
    "def pandas_eda(df):\n",
    "    print(\"First 5 columns\")\n",
    "    print(df.head())\n",
    "    print(\"*\" * 100)\n",
    "    print(\"Dataframe information\")\n",
    "    print(df.info())\n",
    "    print(\"*\" * 100)\n",
    "    print(\"Missing values\")\n",
    "    print(df.isnull().sum())\n",
    "    print(\"*\" * 100)"
   ]
  },
  {
   "cell_type": "markdown",
   "id": "f7e555bc",
   "metadata": {},
   "source": [
    "### ENSO Index\n",
    "\n",
    "We include the ENSO index as a column denoting a wet year, dry year or normal year.\n",
    "\n",
    "$\n",
    "flag = \\begin{cases}\n",
    "    -1, \\text{if } \\text{ ENSO } < -0.5 \\\\\n",
    "    0, \\text{if } 0.5 < \\text{ ENSO } < 0.5 \\\\\n",
    "    1, \\text{if } \\text{ ENSO } > 0.5\n",
    "\\end{cases}\n",
    "$\n",
    "\n",
    "with -1 denoting a dry year, 0 denoting a normal year and 1 denoting a wet year."
   ]
  },
  {
   "cell_type": "code",
   "execution_count": null,
   "id": "55d9efa3",
   "metadata": {},
   "outputs": [],
   "source": [
    "df = pd.read_excel(os.path.join(unprocessed_folder_path, \"Data_ENSO\", \"ENSO evolution.xlsx\"), skiprows=2)\n",
    "\n",
    "# df[\"avg\"] = df.loc[:, df.columns != \"Year\"].mean(axis=1)\n",
    "\n",
    "year_data = collections.defaultdict(list)\n",
    "\n",
    "for index, row in df.iterrows():\n",
    "    year = row[\"Year\"]\n",
    "    # Add only months that are in the corresponding hydrological year\n",
    "    year_data[year - 1].extend(row[1:4].values)\n",
    "    year_data[year].extend(row[4:].values)\n",
    "\n",
    "year_indices = {}\n",
    "\n",
    "# Here we also consider 1949 and 2021, even though we don't \n",
    "# have full data for those hydrological years yet\n",
    "for year, enso_indices in year_data.items():\n",
    "    avg_enso_index = np.mean(enso_indices)\n",
    "\n",
    "    # Determine \"wetness\" of year\n",
    "    if avg_enso_index < -0.5:\n",
    "        index = -1\n",
    "    elif -0.5 < avg_enso_index < 0.5:\n",
    "        index = 0\n",
    "    elif avg_enso_index > 0.5:\n",
    "        index = 1\n",
    "\n",
    "    year_indices[year] = index\n",
    "\n",
    "print(year_indices)"
   ]
  },
  {
   "cell_type": "markdown",
   "id": "ec1f2ac1",
   "metadata": {},
   "source": [
    "#### Here I plot some information about the distribution of years"
   ]
  },
  {
   "cell_type": "code",
   "execution_count": null,
   "id": "c59cf730",
   "metadata": {},
   "outputs": [],
   "source": [
    "counter = collections.Counter(year_indices.values())\n",
    "labels, values = zip(*counter.items())\n",
    "\n",
    "indexes = np.arange(len(labels))\n",
    "width = 0.5\n",
    "\n",
    "plt.bar(indexes, values, width, align=\"edge\") \n",
    "plt.title(\"Number of dry (-1) years, normal (0) years and wet (1) years\")\n",
    "plt.xticks(indexes + width * 0.5, labels)\n",
    "plt.show()\n",
    "\n",
    "plt.figure()\n",
    "plt.plot(year_indices.keys(), year_indices.values(), 'ob:')\n",
    "plt.title(\"Distribution of dry (-1) years, normal (0) years and wet (1) years\")\n",
    "plt.show()"
   ]
  },
  {
   "cell_type": "markdown",
   "id": "cfeb94dd",
   "metadata": {},
   "source": [
    "### Convert data files from NDSI/NDVI to formatted CSVs"
   ]
  },
  {
   "cell_type": "code",
   "execution_count": null,
   "id": "21af1476",
   "metadata": {},
   "outputs": [],
   "source": [
    "data_folder = \"Data_NDSI_NDVI\"\n",
    "data_files = [\"NDSI.txt\", \"NDVI.txt\"]\n",
    "\n",
    "for data_file in data_files:\n",
    "    df = pd.read_csv(os.path.join(unprocessed_folder_path, data_folder, data_file), \n",
    "                     delimiter=\"\\t\", index_col=False,\n",
    "                     names=[\"Watershed\", \"Subsubwatershed\", \"Product\", \"Date\",\n",
    "                            \"Areaini\", \"Areareproj\", f\"Surfmax\", f\"Surfmin\",\n",
    "                            \"Surfavg\", \"max\", \"min\", f\"avg\",\n",
    "                            \"Surfcloudmax\", \"Surfcloudmin\", \"Surfcloudavg\",\n",
    "                            \"Surfbadpixmax\", \"Surfbadpixmin\", \"Surfbadpixavg\"])\n",
    "    \n",
    "    # Convert date to datetime and convert to wateryears\n",
    "    df[\"date\"] = pd.to_datetime(df[\"Date\"])\n",
    "    df = df.drop(\"Date\", axis=1)\n",
    "    \n",
    "    df.to_csv(os.path.join(processed_folder_path, data_file[:4] + \".csv\"))"
   ]
  },
  {
   "cell_type": "code",
   "execution_count": null,
   "id": "0c50ec4a",
   "metadata": {},
   "outputs": [],
   "source": [
    "print(df.columns)"
   ]
  },
  {
   "cell_type": "markdown",
   "id": "73e38587",
   "metadata": {},
   "source": [
    "### Convert data from the river flow dataset to properly formatted CSV"
   ]
  },
  {
   "cell_type": "code",
   "execution_count": null,
   "id": "f78552b2",
   "metadata": {},
   "outputs": [],
   "source": [
    "flow_data_folder = \"Data_RiverFlow\"\n",
    "flow_data_file = \"DGA.txt\"\n",
    "\n",
    "date_columns = [\"day\", \"month\", \"year\", \"hour\"]\n",
    "\n",
    "df = pd.read_csv(os.path.join(unprocessed_folder_path, flow_data_folder, flow_data_file), \n",
    "                 delimiter=\"\\t\", index_col=False,\n",
    "                 names=[\"station_number\", \"day\", \"month\", \"year\", \"hour\", \n",
    "                        \"river_height\", \"river_flow\", \"information\", \"origin\"])\n",
    "\n",
    "# Convert date go datetime and add as column\n",
    "date = pd.to_datetime(dict(year=df.year, month=df.month, day=df.day, hour=df.hour))\n",
    "df = df.drop(columns=date_columns)\n",
    "df.insert(1, 'date', date)\n",
    "df[\"water_year\"] = df[\"date\"].dt.year.where(df[\"date\"].dt.month > 3, df[\"date\"].dt.year - 1)\n",
    "\n",
    "\n",
    "# Add year_type column, determining wetness of year\n",
    "df[\"year_type\"] = df['water_year'].map(year_indices)\n",
    "\n",
    "df.to_csv(os.path.join(processed_folder_path, flow_data_file[:3] + \".csv\"))"
   ]
  }
 ],
 "metadata": {
  "kernelspec": {
   "display_name": "Python 3 (ipykernel)",
   "language": "python",
   "name": "python3"
  },
  "language_info": {
   "codemirror_mode": {
    "name": "ipython",
    "version": 3
   },
   "file_extension": ".py",
   "mimetype": "text/x-python",
   "name": "python",
   "nbconvert_exporter": "python",
   "pygments_lexer": "ipython3",
   "version": "3.8.12"
  },
  "toc": {
   "base_numbering": 1,
   "nav_menu": {},
   "number_sections": true,
   "sideBar": true,
   "skip_h1_title": false,
   "title_cell": "Table of Contents",
   "title_sidebar": "Contents",
   "toc_cell": false,
   "toc_position": {},
   "toc_section_display": true,
   "toc_window_display": false
  }
 },
 "nbformat": 4,
 "nbformat_minor": 5
}
