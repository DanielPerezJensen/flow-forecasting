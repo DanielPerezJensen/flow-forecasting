{
 "cells": [
  {
   "cell_type": "markdown",
   "id": "51ed531f",
   "metadata": {},
   "source": [
    "### In this notebook we explore the data lightly and create some preliminary plots"
   ]
  },
  {
   "cell_type": "code",
   "execution_count": null,
   "id": "adc65a09",
   "metadata": {},
   "outputs": [],
   "source": [
    "%matplotlib inline \n",
    "\n",
    "import pandas as pd\n",
    "import numpy as np\n",
    "import matplotlib.pyplot as plt\n",
    "from matplotlib import dates as mdates\n",
    "import collections\n",
    "import os\n",
    "\n",
    "processed_folder_path = os.path.join(\"..\", \"data\", \"processed\")\n",
    "unprocessed_folder_path = os.path.join(\"..\", \"data\", \"unprocessed\")"
   ]
  },
  {
   "cell_type": "markdown",
   "id": "99c137f9",
   "metadata": {},
   "source": [
    "## Plot data density\n",
    "\n",
    "### NDSI and NDVI data density given time"
   ]
  },
  {
   "cell_type": "code",
   "execution_count": null,
   "id": "57cc7038",
   "metadata": {},
   "outputs": [],
   "source": [
    "df_NDSI = pd.read_csv(os.path.join(processed_folder_path, \"NDSI.csv\"), index_col=0, parse_dates=[\"date\"])\n",
    "df_NDVI = pd.read_csv(os.path.join(processed_folder_path, \"NDVI.csv\"), index_col=0, parse_dates=[\"date\"])"
   ]
  },
  {
   "cell_type": "code",
   "execution_count": null,
   "id": "6c13c447",
   "metadata": {},
   "outputs": [],
   "source": [
    "def plot_data_density(dfs, labels):\n",
    "    plt.figure(figsize=(14, 8))\n",
    "    for df, label in zip(dfs, labels):\n",
    "        plt.plot(df.groupby(df[\"date\"].dt.year).size(), label=label)\n",
    "    \n",
    "    plt.title(\"Frequency of years in data\")\n",
    "    plt.xlabel(\"Year\")\n",
    "    plt.ylabel(\"Frequency\")\n",
    "    plt.legend()\n",
    "    plt.show()\n",
    "    \n",
    "    plt.figure(figsize=(14, 8))\n",
    "    for df, label in zip(dfs, labels):\n",
    "        plt.plot(df.groupby(df[\"date\"].dt.month).size(), label=label)\n",
    "\n",
    "    plt.xticks(range(12), range(1, 13))\n",
    "    plt.title(\"Frequency of months in data\")\n",
    "    plt.xlabel(\"Month\")\n",
    "    plt.ylabel(\"Frequency\")\n",
    "    plt.legend()\n",
    "    plt.show()"
   ]
  },
  {
   "cell_type": "code",
   "execution_count": null,
   "id": "08e31b6f",
   "metadata": {},
   "outputs": [],
   "source": [
    "plot_data_density([df_NDSI, df_NDVI], [\"NDSI\", \"NDVI\"])"
   ]
  },
  {
   "cell_type": "markdown",
   "id": "ab02b8df",
   "metadata": {},
   "source": [
    "## River Flow Data\n",
    "### Data Density"
   ]
  },
  {
   "cell_type": "code",
   "execution_count": null,
   "id": "1bd4359e",
   "metadata": {},
   "outputs": [],
   "source": [
    "df_DGA = pd.read_csv(os.path.join(processed_folder_path, \"DGA.csv\"), index_col=0, parse_dates=[\"date\"])\n",
    "df_DGA = df_DGA.loc[df_DGA[\"date\"].dt.year >= 1965]\n",
    "\n",
    "plot_data_density([df_DGA], [\"DGA\"])"
   ]
  },
  {
   "cell_type": "markdown",
   "id": "0ad1e6b8",
   "metadata": {},
   "source": [
    "### Monthly Flow Data\n",
    "\n",
    "We convert the data from a daily scale to a monthly scale by calculating the mean and the median per month."
   ]
  },
  {
   "cell_type": "code",
   "execution_count": null,
   "id": "22757983",
   "metadata": {},
   "outputs": [],
   "source": [
    "monthly_flow_data_mean = df_DGA.groupby(pd.PeriodIndex(df_DGA['date'], freq=\"M\"))[['river_flow', 'river_height']].mean()\n",
    "monthly_flow_data_median = df_DGA.groupby(pd.PeriodIndex(df_DGA['date'], freq=\"M\"))['river_flow'].median()\n",
    "\n",
    "flow_mean_df = monthly_flow_data_mean.reset_index()"
   ]
  },
  {
   "cell_type": "markdown",
   "id": "66e05f3a",
   "metadata": {},
   "source": [
    "#### Below we plot the yearly average measurements of all water years, distinguishing between the types of years (dry, normal or wet)."
   ]
  },
  {
   "cell_type": "code",
   "execution_count": null,
   "id": "0a2fe0e2",
   "metadata": {},
   "outputs": [],
   "source": [
    "print(\"Average River Flow Measurements:\")\n",
    "\n",
    "print(\"Dry Years:   \", round(df_DGA.loc[df_DGA[\"year_type\"] == -1][\"river_flow\"].mean(), 3))\n",
    "print(\"Normal Years:\", round(df_DGA.loc[df_DGA[\"year_type\"] == 0][\"river_flow\"].mean(), 3))\n",
    "print(\"Wet Years:   \", round(df_DGA.loc[df_DGA[\"year_type\"] == 1][\"river_flow\"].mean(), 3))\n",
    "\n",
    "dry_discharge_rate = df_DGA.loc[df_DGA[\"year_type\"] == -1].groupby(\"water_year\")[[\"river_flow\"]].mean()\n",
    "dry_discharge_rate.plot.bar(figsize=(8, 6), title=\"Dry Years\", xlabel='Water Year', ylabel='Discharge (cubic feet / sec)', legend=False)\n",
    "\n",
    "normal_discharge_rate = df_DGA.loc[df_DGA[\"year_type\"] == 0].groupby(\"water_year\")[[\"river_flow\"]].mean()\n",
    "normal_discharge_rate.plot.bar(figsize=(8, 6), title=\"Normal Years\", xlabel='Water Year', ylabel='Discharge (cubic feet / sec)', legend=False)\n",
    "\n",
    "wet_discharge_rate = df_DGA.loc[df_DGA[\"year_type\"] == 1].groupby(\"water_year\")[[\"river_flow\"]].mean()\n",
    "wet_discharge_rate.plot.bar(figsize=(8, 6), title=\"Wet Years\", xlabel='Water Year', ylabel='Discharge (cubic feet / sec)', legend=False)\n",
    "\n",
    "plt.show()"
   ]
  },
  {
   "cell_type": "markdown",
   "id": "cc2e5948",
   "metadata": {},
   "source": [
    "### Below we merge the NDSI and NDVI dataframes into the monthly_flow_data_mean"
   ]
  },
  {
   "cell_type": "code",
   "execution_count": null,
   "id": "46066125",
   "metadata": {},
   "outputs": [],
   "source": [
    "# Aggregate data based on a monthly average\n",
    "monthly_flow_data_mean = df_DGA.groupby(pd.PeriodIndex(df_DGA['date'], freq=\"M\"))[['river_flow', 'river_height']].mean()\n",
    "monthly_ndsi_data_mean = df_NDSI.groupby(pd.PeriodIndex(df_NDSI.date, freq=\"M\"))[\"avg\"].mean()\n",
    "monthly_ndvi_data_mean = df_NDVI.groupby(pd.PeriodIndex(df_NDVI.date, freq=\"M\"))[\"avg\"].mean()\n",
    "\n",
    "# Reset indices to restore the grouped data into a dataframe\n",
    "flow_mean_df = monthly_flow_data_mean.reset_index()\n",
    "\n",
    "ndsi_mean_df = monthly_ndsi_data_mean.reset_index()\n",
    "ndsi_mean_df = ndsi_mean_df.rename({\"avg\": \"ndsi_avg\"}, axis=\"columns\")\n",
    "\n",
    "ndvi_mean_df = monthly_ndvi_data_mean.reset_index()\n",
    "ndvi_mean_df = ndvi_mean_df.rename({\"avg\": \"ndvi_avg\"}, axis=\"columns\")\n",
    "\n",
    "# Merge ndvi and ndsi dataframes into one\n",
    "ndsi_ndvi_mean_df = pd.merge(ndsi_mean_df, ndvi_mean_df)\n",
    "\n",
    "# Merge into river_flow river_height dataset\n",
    "monthly_flow_data_mean = pd.merge(flow_mean_df, ndsi_ndvi_mean_df)"
   ]
  }
 ],
 "metadata": {
  "kernelspec": {
   "display_name": "Python 3 (ipykernel)",
   "language": "python",
   "name": "python3"
  },
  "language_info": {
   "codemirror_mode": {
    "name": "ipython",
    "version": 3
   },
   "file_extension": ".py",
   "mimetype": "text/x-python",
   "name": "python",
   "nbconvert_exporter": "python",
   "pygments_lexer": "ipython3",
   "version": "3.8.12"
  }
 },
 "nbformat": 4,
 "nbformat_minor": 5
}
